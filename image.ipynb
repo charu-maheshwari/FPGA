{
 "cells": [
  {
   "cell_type": "code",
   "execution_count": 1,
   "metadata": {},
   "outputs": [],
   "source": [
    "import random\n",
    "from PIL import Image, ImageDraw, ImageFilter\n",
    "import numpy as np\n",
    "from scipy.ndimage import gaussian_filter\n",
    "\n",
    "width, height = 81, 81\n",
    "image = Image.new(\"1\", (width, height), 0)\n",
    "draw = ImageDraw.Draw(image)\n",
    "\n",
    "x1, y1 = 0, random.randint(height//3, height//1.5)\n",
    "x2, y2 = width-1, random.randint(height//3, height//1.5)\n",
    "\n",
    "draw.line((x1, y1, x2, y2), fill=1 , width=1)\n",
    "\n",
    "image.save(\"random_line_image.png\")"
   ]
  }
 ],
 "metadata": {
  "kernelspec": {
   "display_name": "base",
   "language": "python",
   "name": "python3"
  },
  "language_info": {
   "codemirror_mode": {
    "name": "ipython",
    "version": 3
   },
   "file_extension": ".py",
   "mimetype": "text/x-python",
   "name": "python",
   "nbconvert_exporter": "python",
   "pygments_lexer": "ipython3",
   "version": "3.11.5"
  }
 },
 "nbformat": 4,
 "nbformat_minor": 2
}
