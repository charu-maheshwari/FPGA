{
 "cells": [
  {
   "cell_type": "code",
   "execution_count": 6,
   "metadata": {},
   "outputs": [],
   "source": [
    "import random\n",
    "from PIL import Image, ImageDraw, ImageFilter\n",
    "import numpy as np\n",
    "from scipy.ndimage import gaussian_filter\n",
    "import matplotlib.pyplot as plt\n",
    "import skimage.measure"
   ]
  },
  {
   "cell_type": "code",
   "execution_count": null,
   "metadata": {},
   "outputs": [],
   "source": [
    "n = 10000"
   ]
  },
  {
   "cell_type": "code",
   "execution_count": 7,
   "metadata": {},
   "outputs": [],
   "source": [
    "width, height = 81, 81\n",
    "image = Image.new(\"1\", (width, height), 0)\n",
    "draw = ImageDraw.Draw(image)\n",
    "x1, y1 = 0, random.randint(height//3, height//1.5)\n",
    "x2, y2 = width-1, random.randint(height//3, height//1.5)\n",
    "draw.line((x1, y1, x2, y2), fill=1 , width=1)\n",
    "image.save(\"random_line_image.png\")\n",
    "convolved_image = Image.open(r\"random_line_image.png\").convert('RGB')\n",
    "rad = 10\n",
    "convolved_image = convolved_image.filter(ImageFilter.GaussianBlur(radius=rad))   \n",
    "convolved_image.save(\"convolved_image.png\")\n",
    "convolved_array = 2.5*rad*np.array(convolved_image.convert('L'))"
   ]
  },
  {
   "cell_type": "code",
   "execution_count": 10,
   "metadata": {},
   "outputs": [],
   "source": [
    "small_array = skimage.measure.block_reduce(convolved_array, (27,27), np.average)"
   ]
  },
  {
   "cell_type": "code",
   "execution_count": 12,
   "metadata": {},
   "outputs": [],
   "source": [
    "mean = 0\n",
    "var = 256\n",
    "sigma = var ** 0.5\n",
    "gauss = np.random.normal(mean, sigma, small_array.shape)\n",
    "gauss = gauss.reshape(small_array.shape)\n",
    "noisy = small_array + gauss"
   ]
  },
  {
   "cell_type": "code",
   "execution_count": 13,
   "metadata": {},
   "outputs": [
    {
     "data": {
      "image/png": "[encoded data removed]",
      "text/plain": [
       "<Figure size 640x480 with 1 Axes>"
      ]
     },
     "metadata": {},
     "output_type": "display_data"
    }
   ],
   "source": [
    "plt.imshow(noisy)\n",
    "plt.show()"
   ]
  }
 ],
 "metadata": {
  "kernelspec": {
   "display_name": "base",
   "language": "python",
   "name": "python3"
  },
  "language_info": {
   "codemirror_mode": {
    "name": "ipython",
    "version": 3
   },
   "file_extension": ".py",
   "mimetype": "text/x-python",
   "name": "python",
   "nbconvert_exporter": "python",
   "pygments_lexer": "ipython3",
   "version": "3.11.5"
  }
 },
 "nbformat": 4,
 "nbformat_minor": 2
}
